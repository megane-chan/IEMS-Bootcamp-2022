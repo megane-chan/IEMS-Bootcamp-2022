{
 "cells": [
  {
   "cell_type": "markdown",
   "id": "29ae66a4",
   "metadata": {
    "heading_collapsed": true
   },
   "source": [
    "# Introduction"
   ]
  },
  {
   "cell_type": "markdown",
   "id": "0b3c6580",
   "metadata": {
    "hidden": true
   },
   "source": [
    "In this notebook, we will cover Python basics including the following:\n",
    " - Variables and Datatypes\n",
    " - Collections: Lists, Tuples, and Dictionaries\n",
    " - Logic: Operators and Loops\n",
    " - Functions\n",
    " - Classes\n",
    " - Libraries"
   ]
  },
  {
   "cell_type": "markdown",
   "id": "311c842b",
   "metadata": {
    "heading_collapsed": true
   },
   "source": [
    "# Variables and Datatypes"
   ]
  },
  {
   "attachments": {},
   "cell_type": "markdown",
   "id": "8ecdebe0",
   "metadata": {
    "hidden": true
   },
   "source": [
    "In Python, we do not need to define or declare variables before using them. We can use/create variables as we need. This feature makes the coding task easy and fast but can lead to errors and bugs. See below some examples about different kinds of variables commonly used:"
   ]
  },
  {
   "cell_type": "code",
   "execution_count": 128,
   "id": "3365b1f4",
   "metadata": {
    "hidden": true
   },
   "outputs": [
    {
     "name": "stdout",
     "output_type": "stream",
     "text": [
      "These are my variables!\n",
      "|a              ||b              ||c              ||d              ||e              |\n",
      "----------------------------------\n",
      "Here are their values:\n",
      "|Hi             ||05             ||8.40           ||1.23e+08       ||8       |\n",
      "----------------------------------\n",
      "These are their types:\n",
      "|<class 'str'>  ||<class 'int'>  ||<class 'float'>||<class 'int'>  ||<class 'int'>|\n"
     ]
    }
   ],
   "source": [
    "a = 'Hi' \n",
    "b = 5  \n",
    "c = 8.4  \n",
    "d = 123456789  \n",
    "e = int(8.4)  \n",
    "print('These are my variables!')      \n",
    "print('|%-15s||%-15s||%-15s||%-15s||%-15s|'%('a','b','c','d','e'))    \n",
    "print('----------------------------------')      \n",
    "print('Here are their values:')      \n",
    "print('|%-15s||%-15.2d||%-15.2f||%-15.2e||%-8d|'%(a, b, c, d, e)) \n",
    "print('----------------------------------')    \n",
    "print('These are their types:')      \n",
    "print('|%-15s||%-15s||%-15s||%-15s||%8s|'%(type(a), type(b), type(c), type(d), type(e)))  "
   ]
  },
  {
   "cell_type": "markdown",
   "id": "01e1abe2",
   "metadata": {
    "hidden": true
   },
   "source": [
    "Note that we also used formatting for our output. The first number after the “%” indicates how many spaces we will use for printing the variable, with a negative value indicating the spaces will come after the variable. The second number indicates the number of decimals we want to print. The letter indicates the variable type (`integer: d`, `float: f`, `string: s`, `exponential: e`, etc)."
   ]
  },
  {
   "cell_type": "markdown",
   "id": "e1ba48fd",
   "metadata": {
    "hidden": true
   },
   "source": [
    "## Python's pre-defined keywords:\n",
    "\n",
    "Run the following code to see Python’s predefined keywords. We should avoid using them when naming variables."
   ]
  },
  {
   "cell_type": "code",
   "execution_count": 7,
   "id": "4664d4b1",
   "metadata": {
    "hidden": true
   },
   "outputs": [
    {
     "data": {
      "text/plain": [
       "['False',\n",
       " 'None',\n",
       " 'True',\n",
       " '__peg_parser__',\n",
       " 'and',\n",
       " 'as',\n",
       " 'assert',\n",
       " 'async',\n",
       " 'await',\n",
       " 'break',\n",
       " 'class',\n",
       " 'continue',\n",
       " 'def',\n",
       " 'del',\n",
       " 'elif',\n",
       " 'else',\n",
       " 'except',\n",
       " 'finally',\n",
       " 'for',\n",
       " 'from',\n",
       " 'global',\n",
       " 'if',\n",
       " 'import',\n",
       " 'in',\n",
       " 'is',\n",
       " 'lambda',\n",
       " 'nonlocal',\n",
       " 'not',\n",
       " 'or',\n",
       " 'pass',\n",
       " 'raise',\n",
       " 'return',\n",
       " 'try',\n",
       " 'while',\n",
       " 'with',\n",
       " 'yield']"
      ]
     },
     "execution_count": 7,
     "metadata": {},
     "output_type": "execute_result"
    }
   ],
   "source": [
    "import keyword\n",
    "keyword.kwlist"
   ]
  },
  {
   "cell_type": "markdown",
   "id": "7b1a8635",
   "metadata": {
    "hidden": true
   },
   "source": [
    "We can learn the type of a variable by using the function type():"
   ]
  },
  {
   "cell_type": "code",
   "execution_count": 129,
   "id": "28a1bcf9",
   "metadata": {
    "hidden": true
   },
   "outputs": [
    {
     "data": {
      "text/plain": [
       "str"
      ]
     },
     "execution_count": 129,
     "metadata": {},
     "output_type": "execute_result"
    }
   ],
   "source": [
    "type(a)"
   ]
  },
  {
   "attachments": {},
   "cell_type": "markdown",
   "id": "cbc66d07",
   "metadata": {
    "hidden": true
   },
   "source": [
    "## Keeping a tidy workspace\n",
    "\n",
    "We can remove/delete a variable using: del `myVariable1`, `myVariable2`, `myVariableN`\n",
    "\n",
    "We can reset all our workspace with **reset** .\n",
    "\n",
    "We can see all of the objects currently in our workspace using `who`. Try it by running the code below!"
   ]
  },
  {
   "cell_type": "code",
   "execution_count": 138,
   "id": "5fd0bbae",
   "metadata": {
    "hidden": true
   },
   "outputs": [
    {
     "name": "stdout",
     "output_type": "stream",
     "text": [
      "A\t A_t\t B\t C\t Index_max\t List1\t List2\t Matrix_norm\t Matrix_norm_probs\t \n",
      "NamespaceMagics\t OptimizerOptions\t P\t Path\t Rectangle\t S\t Snew\t T\t U\t \n",
      "Vector_pois\t Vector_pois_CDF\t X\t Xnew\t a\t a0\t ax1\t ax2\t b\t \n",
      "b0\t c\t copy\t cwd\t d\t deepcopy\t df_distances\t df_list_facilities\t e\t \n",
      "fig\t fig1\t file_path\t g\t get_ipython\t getsizeof\t i\t json\t keyword\t \n",
      "myArray\t myList\t mySquareRoot\t myTuple\t np\t os\t pandas\t pathlib\t plt\t \n",
      "random\t rv0\t sc\t stats\t sys\t tikzplotlib\t var_dic_list\t x\t y\t \n",
      "z\t \n"
     ]
    }
   ],
   "source": [
    "who"
   ]
  },
  {
   "cell_type": "markdown",
   "id": "01a106de",
   "metadata": {
    "hidden": true
   },
   "source": [
    "## Copying information\n",
    "\n",
    "It is important to remember that we do not copy variables with **=**.\n",
    "\n",
    "The equivalence symbol refers to the pointer of that variable. Instead, if we want to copy a variable we will use copy()."
   ]
  },
  {
   "cell_type": "code",
   "execution_count": 139,
   "id": "d8cc5fd4",
   "metadata": {
    "hidden": true
   },
   "outputs": [
    {
     "name": "stdout",
     "output_type": "stream",
     "text": [
      "Our initial value of a is: [0, 1, 2, 3, 4]\n",
      "After modifying b, our value of a is: [0, 1, 2, 3, 4, 9999]!\n"
     ]
    }
   ],
   "source": [
    "a=[0,1,2,3,4]  \n",
    "print(f\"Our initial value of a is: {a}\")\n",
    "\n",
    "b=a  \n",
    "b.append(9999)  \n",
    "\n",
    "print(f\"After modifying b, our value of a is: {a}!\")  "
   ]
  },
  {
   "cell_type": "code",
   "execution_count": 140,
   "id": "5a595eb6",
   "metadata": {
    "hidden": true
   },
   "outputs": [],
   "source": [
    "from copy import copy, deepcopy # We need to import these functions!"
   ]
  },
  {
   "cell_type": "code",
   "execution_count": 142,
   "id": "d09d78a2",
   "metadata": {
    "hidden": true
   },
   "outputs": [
    {
     "name": "stdout",
     "output_type": "stream",
     "text": [
      "Our initial value of a is: [0, 1, 2, 3, 4]\n",
      "After modifying b, our value of a is: [0, 1, 2, 3, 4]!\n"
     ]
    }
   ],
   "source": [
    "a=[0,1,2,3,4]  \n",
    "print(f\"Our initial value of a is: {a}\")\n",
    "\n",
    "b=copy(a)\n",
    "b.append(9999)  \n",
    "\n",
    "print(f\"After modifying b, our value of a is: {a}!\")  "
   ]
  },
  {
   "cell_type": "markdown",
   "id": "b76e32d5",
   "metadata": {
    "heading_collapsed": true
   },
   "source": [
    "# Collections: Lists, Tuples, and Dictionaries"
   ]
  },
  {
   "cell_type": "markdown",
   "id": "37a3fb7e",
   "metadata": {
    "heading_collapsed": true,
    "hidden": true
   },
   "source": [
    "## Lists\n",
    "\n",
    "Lists are a useful tool to store and organize different variables. Variables in lists can be of different types. For example:"
   ]
  },
  {
   "cell_type": "code",
   "execution_count": 144,
   "id": "c79d203e",
   "metadata": {
    "hidden": true
   },
   "outputs": [
    {
     "name": "stdout",
     "output_type": "stream",
     "text": [
      "[1, 2.0, 3.14e+25, 'What?', ['list', 'inside', 'list!', 0.005]]\n"
     ]
    }
   ],
   "source": [
    "myList = [1,2.0,3.14e25,'What?',['list','inside','list!',0.005]]  \n",
    "print(myList) "
   ]
  },
  {
   "cell_type": "markdown",
   "id": "b91e7fdb",
   "metadata": {
    "hidden": true
   },
   "source": [
    "Python indexes starting from 0, not 1. To access elements inside of a list, use **square brackets** \"[ ]\" to indicate the index number. Note that a list is **ordered**."
   ]
  },
  {
   "cell_type": "code",
   "execution_count": 145,
   "id": "90454efc",
   "metadata": {
    "hidden": true
   },
   "outputs": [
    {
     "name": "stdout",
     "output_type": "stream",
     "text": [
      "1\n"
     ]
    }
   ],
   "source": [
    "# Let's look at the first element\n",
    "print(myList[0]) "
   ]
  },
  {
   "cell_type": "code",
   "execution_count": 148,
   "id": "db0cb8e7",
   "metadata": {
    "hidden": true
   },
   "outputs": [
    {
     "name": "stdout",
     "output_type": "stream",
     "text": [
      "What?\n"
     ]
    }
   ],
   "source": [
    "# If we want to index from the last element we can use negative indices\n",
    "print(myList[-2]) "
   ]
  },
  {
   "cell_type": "code",
   "execution_count": 149,
   "id": "71a35568",
   "metadata": {
    "hidden": true
   },
   "outputs": [
    {
     "name": "stdout",
     "output_type": "stream",
     "text": [
      "['list', 'inside', 'list!', 0.005]\n"
     ]
    }
   ],
   "source": [
    "# Look - we have a list inside of a list!\n",
    "print(myList[4]) "
   ]
  },
  {
   "cell_type": "code",
   "execution_count": 150,
   "id": "a210b700",
   "metadata": {
    "hidden": true
   },
   "outputs": [
    {
     "name": "stdout",
     "output_type": "stream",
     "text": [
      "0.005\n"
     ]
    }
   ],
   "source": [
    "# To access the elements of a list inside a list we use: myList[Index1][Index2]\n",
    "print(myList[4][3])"
   ]
  },
  {
   "cell_type": "code",
   "execution_count": 13,
   "id": "8ec6cb04",
   "metadata": {
    "hidden": true
   },
   "outputs": [
    {
     "name": "stdout",
     "output_type": "stream",
     "text": [
      "5\n"
     ]
    }
   ],
   "source": [
    "# len() returns the number of elements in a list\n",
    "print(len(myList)) "
   ]
  },
  {
   "cell_type": "code",
   "execution_count": 151,
   "id": "8d3fbc70",
   "metadata": {
    "hidden": true
   },
   "outputs": [
    {
     "ename": "IndexError",
     "evalue": "list index out of range",
     "output_type": "error",
     "traceback": [
      "\u001b[0;31m---------------------------------------------------------------------------\u001b[0m",
      "\u001b[0;31mIndexError\u001b[0m                                Traceback (most recent call last)",
      "\u001b[0;32m/var/folders/r0/gz1bdmd91sd16y4m_t6sf9h00000gn/T/ipykernel_31660/3643114389.py\u001b[0m in \u001b[0;36m<module>\u001b[0;34m\u001b[0m\n\u001b[1;32m      1\u001b[0m \u001b[0;31m# We’ll get an error if we exceed the number of elements\u001b[0m\u001b[0;34m\u001b[0m\u001b[0;34m\u001b[0m\u001b[0m\n\u001b[0;32m----> 2\u001b[0;31m \u001b[0mprint\u001b[0m\u001b[0;34m(\u001b[0m\u001b[0mmyList\u001b[0m\u001b[0;34m[\u001b[0m\u001b[0;36m5\u001b[0m\u001b[0;34m]\u001b[0m\u001b[0;34m)\u001b[0m\u001b[0;34m\u001b[0m\u001b[0;34m\u001b[0m\u001b[0m\n\u001b[0m",
      "\u001b[0;31mIndexError\u001b[0m: list index out of range"
     ]
    }
   ],
   "source": [
    "# We’ll get an error if we exceed the number of elements\n",
    "print(myList[5]) "
   ]
  },
  {
   "cell_type": "markdown",
   "id": "bd83eda2",
   "metadata": {
    "hidden": true
   },
   "source": [
    "### Basic Operations:"
   ]
  },
  {
   "cell_type": "code",
   "execution_count": 152,
   "id": "76b3892b",
   "metadata": {
    "hidden": true
   },
   "outputs": [
    {
     "name": "stdout",
     "output_type": "stream",
     "text": [
      "[1, 2.0, 3.14e+25, 'What?', 9.99, [0, 0.001]]\n"
     ]
    }
   ],
   "source": [
    "# Append\n",
    "\n",
    "List1 = [1,2.0,3.14e25,'What?',9.99]  \n",
    "List2 = [0,0.001]  \n",
    "List1.append(List2)  \n",
    "print(List1)  "
   ]
  },
  {
   "cell_type": "code",
   "execution_count": 153,
   "id": "8ddaee12",
   "metadata": {
    "hidden": true
   },
   "outputs": [
    {
     "name": "stdout",
     "output_type": "stream",
     "text": [
      "[1, 2.0, 8, 'What?', 9.99]\n"
     ]
    }
   ],
   "source": [
    "# Modify\n",
    "\n",
    "myList = [1,2.0,3.14e25,'What?',9.99]  \n",
    "myList[2]=8  \n",
    "print(myList) "
   ]
  },
  {
   "cell_type": "code",
   "execution_count": 162,
   "id": "a134fd39",
   "metadata": {
    "hidden": true
   },
   "outputs": [
    {
     "name": "stdout",
     "output_type": "stream",
     "text": [
      "[1, 2.0, 3.14e+25, 'What?', 9.99]\n",
      "[1, 2.0, 'What?', 9.99]\n",
      "[1, 2.0, 'What?', 9.99]\n"
     ]
    }
   ],
   "source": [
    "# Remove\n",
    "\n",
    "myList = [1,2.0,3.14e25,'What?',9.99]\n",
    "print(myList)\n",
    "\n",
    "myList = [1,2.0,3.14e25,'What?',9.99]  \n",
    "del myList[2]\n",
    "print(myList)  \n",
    "\n",
    "myList = [1,2.0,3.14e25,'What?',9.99]  \n",
    "myList.pop(2)  \n",
    "print(myList)  "
   ]
  },
  {
   "cell_type": "markdown",
   "id": "8c3a15ab",
   "metadata": {
    "hidden": true
   },
   "source": [
    "What's the difference between `del` and `pop`? Let's take a look. Try running the two blocks of code below and see what the difference is!"
   ]
  },
  {
   "cell_type": "code",
   "execution_count": 163,
   "id": "a65b6f09",
   "metadata": {
    "hidden": true
   },
   "outputs": [],
   "source": [
    "myList = [1,2.0,3.14e25,'What?',9.99]  \n",
    "del myList[2]"
   ]
  },
  {
   "cell_type": "code",
   "execution_count": 164,
   "id": "d155f8f0",
   "metadata": {
    "hidden": true
   },
   "outputs": [
    {
     "data": {
      "text/plain": [
       "3.14e+25"
      ]
     },
     "execution_count": 164,
     "metadata": {},
     "output_type": "execute_result"
    }
   ],
   "source": [
    "myList = [1,2.0,3.14e25,'What?',9.99]  \n",
    "myList.pop(2)"
   ]
  },
  {
   "cell_type": "markdown",
   "id": "69be2284",
   "metadata": {
    "hidden": true
   },
   "source": [
    "The `pop` function returns the value that was removed from the list, whereas `del` simply removes it. Think about potential use cases for one over the other!"
   ]
  },
  {
   "cell_type": "code",
   "execution_count": 165,
   "id": "0cb5c89a",
   "metadata": {
    "hidden": true
   },
   "outputs": [
    {
     "name": "stdout",
     "output_type": "stream",
     "text": [
      "[1, 2.0, 'wow!', 3.14e+25, 'What?', 9.99]\n"
     ]
    }
   ],
   "source": [
    "# Insert\n",
    "\n",
    "myList = [1,2.0,3.14e25,'What?',9.99]    \n",
    "myList.insert(2,'wow!')    \n",
    "print(myList) "
   ]
  },
  {
   "cell_type": "markdown",
   "id": "2bc004d2",
   "metadata": {
    "heading_collapsed": true,
    "hidden": true
   },
   "source": [
    "## Tuples:\n",
    "\n",
    "We can think of tuples as **immutable** lists. Once created, we cannot modify them. They are mainly used as arguments of functions. We can define them using “()” instead of “[]”."
   ]
  },
  {
   "cell_type": "code",
   "execution_count": 166,
   "id": "14e82d67",
   "metadata": {
    "hidden": true
   },
   "outputs": [
    {
     "name": "stdout",
     "output_type": "stream",
     "text": [
      "(8, 9, 'hi..!')\n"
     ]
    }
   ],
   "source": [
    "myTuple = (8,9,'hi..!') \n",
    "print(myTuple)"
   ]
  },
  {
   "cell_type": "markdown",
   "id": "2080bf64",
   "metadata": {
    "hidden": true
   },
   "source": [
    "What's the benefit of using a tuple? It's more resource efficient than a list!"
   ]
  },
  {
   "cell_type": "markdown",
   "id": "0932f84f",
   "metadata": {
    "heading_collapsed": true,
    "hidden": true
   },
   "source": [
    "## Dictionaries\n",
    "\n",
    "A dictionary differs from a list in that it is **unordered** and it cannot contain duplicate entries.\n",
    "\n",
    "You can think of a dictionary as a mapping between a set of named indices (which are called keys) and a set of values. Each key maps to a value. The association of a key and a value is called a key-value pair or sometimes an item. \n",
    "\n",
    "Typically, a key is a string (although it can take other data types) and a value can be any data type.\n",
    "\n",
    "See the following example of dictionaries creation and management in Python."
   ]
  },
  {
   "cell_type": "code",
   "execution_count": 26,
   "id": "93c75039",
   "metadata": {
    "hidden": true
   },
   "outputs": [
    {
     "name": "stdout",
     "output_type": "stream",
     "text": [
      "Initially, the output level was set to 1.\n",
      "After modification, the output level was changed to 0.\n"
     ]
    }
   ],
   "source": [
    "OptimizerOptions = {'Info': 'I Write here the options of the optimizer',   \n",
    "          'MaxIter': 1E6,   \n",
    "          'Gap': 1E-8,   \n",
    "          'PrimaryMethod': 'BFGS',  \n",
    "          'SecondaryMethod': 'SR1',  \n",
    "          'OutputLevel': 1} \n",
    "\n",
    "print(f\"Initially, the output level was set to {OptimizerOptions['OutputLevel']}.\")\n",
    "\n",
    "OptimizerOptions['OutputLevel'] = 0 # Modifying values  \n",
    "\n",
    "print(f\"After modification, the output level was changed \" \n",
    "      f\"to {OptimizerOptions['OutputLevel']}.\")"
   ]
  },
  {
   "cell_type": "markdown",
   "id": "0338f5bb",
   "metadata": {
    "hidden": true
   },
   "source": [
    "Try copying the following code and see what happens:\n",
    "<img style=\"float:center\" src='Images/DictionaryEx1.png' width='400' ></img>"
   ]
  },
  {
   "cell_type": "code",
   "execution_count": null,
   "id": "133d8e85",
   "metadata": {
    "hidden": true
   },
   "outputs": [],
   "source": []
  },
  {
   "cell_type": "markdown",
   "id": "ae28bdb8",
   "metadata": {
    "heading_collapsed": true
   },
   "source": [
    "# Logic"
   ]
  },
  {
   "cell_type": "markdown",
   "id": "553e1fb6",
   "metadata": {
    "heading_collapsed": true,
    "hidden": true
   },
   "source": [
    "## Operators"
   ]
  },
  {
   "attachments": {},
   "cell_type": "markdown",
   "id": "0c449889",
   "metadata": {
    "hidden": true
   },
   "source": [
    "Below are a list of logical operators:\n",
    "- \\>,>=\n",
    "- <,<=\n",
    "- !=\n",
    "- True and False\n",
    "- True or False\n",
    "- not True"
   ]
  },
  {
   "cell_type": "markdown",
   "id": "38664c76",
   "metadata": {
    "heading_collapsed": true,
    "hidden": true
   },
   "source": [
    "## Loops"
   ]
  },
  {
   "cell_type": "markdown",
   "id": "e2605988",
   "metadata": {
    "hidden": true
   },
   "source": [
    "Python uses indentation for separating different loop and function statements. If the indentation is not correct, the program will return an error. See the following structures:"
   ]
  },
  {
   "cell_type": "code",
   "execution_count": 180,
   "id": "bc7cfe17",
   "metadata": {
    "hidden": true
   },
   "outputs": [
    {
     "name": "stdout",
     "output_type": "stream",
     "text": [
      "Yay! We're living our best lives.\n"
     ]
    }
   ],
   "source": [
    "# What happens when you change these values?\n",
    "IEMS_is_the_best = True\n",
    "We_are_happy = True\n",
    "\n",
    "# If:\n",
    "if IEMS_is_the_best and We_are_happy:  \n",
    "    print(\"Yay! We're living our best lives.\")\n",
    "elif IEMS_is_the_best or We_are_happy:\n",
    "    print(\"One of these is definitely true!\")\n",
    "elif not IEMS_is_the_best and not We_are_happy:\n",
    "    print(\"Uh oh...\")\n",
    "else:\n",
    "    print(None)"
   ]
  },
  {
   "cell_type": "code",
   "execution_count": 181,
   "id": "58d4d406",
   "metadata": {
    "hidden": true
   },
   "outputs": [
    {
     "name": "stdout",
     "output_type": "stream",
     "text": [
      "[0, 1, 2, 3, 4, 5, 6, 7, 8, 9, 10]\n"
     ]
    }
   ],
   "source": [
    "# While:\n",
    "Repetitions = 0  \n",
    "myList = [0]  \n",
    "while Repetitions < 10:  \n",
    "    myList.append(myList[-1] + 1)  \n",
    "    Repetitions = Repetitions + 1  \n",
    "print(myList)"
   ]
  },
  {
   "cell_type": "code",
   "execution_count": 182,
   "id": "8dc49c76",
   "metadata": {
    "hidden": true
   },
   "outputs": [
    {
     "name": "stdout",
     "output_type": "stream",
     "text": [
      "1\n",
      "numberTWO!\n",
      "3.14e+25\n",
      "What?\n",
      "9.99\n"
     ]
    }
   ],
   "source": [
    "# For:\n",
    "# “For”-loops in Python work with lists or ranges:\n",
    "myList = [1, \"numberTWO!\", 3.14e25, 'What?', 9.99]    \n",
    "for element in myList:  \n",
    "    print(element)"
   ]
  },
  {
   "cell_type": "markdown",
   "id": "0eaca669",
   "metadata": {
    "hidden": true
   },
   "source": [
    "The following lines do the same as we have above:"
   ]
  },
  {
   "cell_type": "code",
   "execution_count": 183,
   "id": "bf51a7f1",
   "metadata": {
    "hidden": true
   },
   "outputs": [
    {
     "name": "stdout",
     "output_type": "stream",
     "text": [
      "1\n",
      "numberTWO!\n",
      "3.14e+25\n",
      "What?\n",
      "9.99\n"
     ]
    }
   ],
   "source": [
    "for index in range(0, len(myList)):  \n",
    "    print(myList[index]) "
   ]
  },
  {
   "cell_type": "markdown",
   "id": "d38ef370",
   "metadata": {
    "hidden": true
   },
   "source": [
    "Side note on `range()`:\n",
    "\n",
    "We typically use `range` to easily create lists of numbers:  `range([start], stop, [step])`. If we want to print the actual numbers when we create the range, we can convert it into a list. \n",
    "\n",
    "See the following examples:"
   ]
  },
  {
   "cell_type": "code",
   "execution_count": 184,
   "id": "089e23d1",
   "metadata": {
    "hidden": true
   },
   "outputs": [
    {
     "name": "stdout",
     "output_type": "stream",
     "text": [
      "range(1,8,2): range(1, 8, 2)\n",
      "\n",
      "list(range(1,8,2)): [1, 3, 5, 7]\n",
      "\n",
      "list(range(2,8)): [2, 3, 4, 5, 6, 7]\n",
      "\n",
      "list(range(8)): [0, 1, 2, 3, 4, 5, 6, 7]\n"
     ]
    }
   ],
   "source": [
    "print(f\"range(1,8,2): {range(1,8,2)}\") \n",
    "print()\n",
    "print(f\"list(range(1,8,2)): {list(range(1,8,2))}\")\n",
    "print()\n",
    "print(f\"list(range(2,8)): {list(range(2,8))}\")\n",
    "print()\n",
    "print(f\"list(range(8)): {list(range(8))}\")"
   ]
  },
  {
   "cell_type": "markdown",
   "id": "c9f467ab",
   "metadata": {
    "hidden": true
   },
   "source": [
    "Note that the stop number is NOT included in the list!"
   ]
  },
  {
   "cell_type": "code",
   "execution_count": 196,
   "id": "48ae4d71",
   "metadata": {
    "hidden": true
   },
   "outputs": [
    {
     "name": "stdout",
     "output_type": "stream",
     "text": [
      "[1, 'numberTWO!', 3.14e+25, 'What?', 9.99]\n",
      "\n",
      "List the first two elements:\n",
      "1\n",
      "numberTWO!\n",
      "\n",
      "List all elements starting from the third:\n",
      "3.14e+25\n",
      "What?\n",
      "9.99\n",
      "\n",
      "List all elements of the list in reverse order:\n",
      "9.99\n",
      "What?\n",
      "3.14e+25\n",
      "numberTWO!\n",
      "1\n"
     ]
    }
   ],
   "source": [
    "print(myList)\n",
    "print()\n",
    "\n",
    "print('List the first two elements:')\n",
    "# If a starting value is not assigned, it's assumed to be 0\n",
    "for element in myList[:2]:  \n",
    "    print(element) \n",
    "    \n",
    "print()\n",
    "print('List all elements starting from the third:')\n",
    "# If an ending value is not assigned, it's assumed to be the last element\n",
    "for element in myList[2:]:  \n",
    "    print(element) \n",
    "\n",
    "print()\n",
    "print('List all elements of the list in reverse order:')\n",
    "# We can step backwards through a list\n",
    "for element in myList[len(myList)::-1]:  \n",
    "    print(element) "
   ]
  },
  {
   "cell_type": "markdown",
   "id": "4c2dbd44",
   "metadata": {
    "heading_collapsed": true
   },
   "source": [
    "# Functions"
   ]
  },
  {
   "attachments": {},
   "cell_type": "markdown",
   "id": "af9d4e74",
   "metadata": {
    "hidden": true
   },
   "source": [
    "We define functions with the following structure:"
   ]
  },
  {
   "cell_type": "code",
   "execution_count": 197,
   "id": "460bef7b",
   "metadata": {
    "hidden": true
   },
   "outputs": [
    {
     "name": "stdout",
     "output_type": "stream",
     "text": [
      "9.380831519670643\n"
     ]
    }
   ],
   "source": [
    "# Example\n",
    "def mySquareRoot(X):  \n",
    "    ''' \n",
    "    This function approximates the square root of a positive number \n",
    "     \n",
    "    Input: \n",
    "    ----- \n",
    "        X: The number we want to calculate the sqrt \n",
    "    Output: \n",
    "    ------ \n",
    "        Approx: The sqrt approximation \n",
    "    '''  \n",
    "    if X == 0:  \n",
    "        Approx = 0  \n",
    "    elif X < 0:  \n",
    "        print('Hello REAL World..')  \n",
    "        Approx = 'Err'  \n",
    "    else:  \n",
    "        Approx = 1 #  Define the initial value  \n",
    "        Number_iters = 0  \n",
    "        while (abs(Approx**2-X)>1E-6) and (Number_iters<100):  # reversed stop cond.\n",
    "            Approx = 0.5*(Approx+X/Approx) # I use newton method  \n",
    "            Number_iters = Number_iters + 1   \n",
    "    return Approx  \n",
    "\n",
    "print(mySquareRoot(88))  "
   ]
  },
  {
   "attachments": {},
   "cell_type": "markdown",
   "id": "b1f43b92",
   "metadata": {
    "hidden": true
   },
   "source": [
    "Question:\n",
    "\n",
    "1. Solve  2x^2-4x-3=0 using the quadratic formula. Also, try to code a general version for quadratic equations with real solutions.\n",
    "\n",
    "2. Write code to find the minimum element of a list by defining a general function."
   ]
  },
  {
   "cell_type": "code",
   "execution_count": null,
   "id": "bc4712a6",
   "metadata": {
    "hidden": true
   },
   "outputs": [],
   "source": []
  },
  {
   "cell_type": "markdown",
   "id": "d9973ae0",
   "metadata": {
    "heading_collapsed": true
   },
   "source": [
    "# Classes"
   ]
  },
  {
   "attachments": {},
   "cell_type": "markdown",
   "id": "d1ef3fb0",
   "metadata": {
    "hidden": true
   },
   "source": [
    "We define an object in python as follows:"
   ]
  },
  {
   "cell_type": "code",
   "execution_count": 46,
   "id": "500b5642",
   "metadata": {
    "hidden": true
   },
   "outputs": [],
   "source": [
    "class Rectangle:  \n",
    "    def __init__(self, Length, Height):  \n",
    "        ''''' \n",
    "        We write in here what we need to define the object. \n",
    "        Inside the class, we use the defined self-variables as \"self.NameOfVariable\" \n",
    "        '''  \n",
    "        self.length = Length  \n",
    "        self.height = Height  \n",
    "    def Area(self):  # Self-function: Only self-variables required\n",
    "        ''''' \n",
    "        Note that we always have to specify \"self\" in our class functions\n",
    "        '''  \n",
    "        Rec_area=self.length*self.height  \n",
    "        return Rec_area  \n",
    "    def Horizontal_Concatenation(self, Other_rectangle):  \n",
    "        '''\n",
    "        Function that implies the current and another object.  \n",
    "        It creates a new rectangle by merging the current and another rect\n",
    "        As it is a Horizontal concatenation we need equal heights \n",
    "        Input: \n",
    "        ----- \n",
    "        self: We always have to specify that \n",
    "        Other_rectangle: The other rectangle we want to merge \n",
    "         \n",
    "        Output: \n",
    "        ------ \n",
    "        New_rectangle: The merged rectangle '''    \n",
    "        if (self.height != Other_rectangle.height):  \n",
    "            print('Ups! I cant do that...Different heights!')  \n",
    "            New_rectangle = 'Err'  \n",
    "        else:  \n",
    "            New_rectangle = Rectangle(self.length+Other_rectangle.length, self.height)  \n",
    "        return New_rectangle  \n",
    "          \n",
    "    def Vertical_Concatenation(self,Other_rectangle):  \n",
    "        ''' \n",
    "        Function that implies the current and another object. \n",
    "        It creates a new rectangle by merging the current and another rect\n",
    "        As it is a vertical concatenation we need equal lengths \n",
    " \n",
    "        Input: \n",
    "        ----- \n",
    "        self: We always have to specify that \n",
    "        Other_rectangle: The other rectangle we want to merge \n",
    "        \n",
    "        Output: \n",
    "        ------ \n",
    "        New_rectangle: The merged rectangle \n",
    "        '''          \n",
    "        if self.length != Other_rectangle.length:  \n",
    "            print('Agh! I cant do that...Different lengths!')  \n",
    "            New_rectangle = 'Err'  \n",
    "        else:  \n",
    "            New_rectangle = Rectangle(self.length, self.height+Other_rectangle.height)  \n",
    "        return New_rectangle    "
   ]
  },
  {
   "attachments": {},
   "cell_type": "markdown",
   "id": "d6f538e9",
   "metadata": {
    "hidden": true
   },
   "source": [
    "Now we can play with the new class!"
   ]
  },
  {
   "cell_type": "code",
   "execution_count": 47,
   "id": "cccaac38",
   "metadata": {
    "hidden": true
   },
   "outputs": [
    {
     "name": "stdout",
     "output_type": "stream",
     "text": [
      "6\n"
     ]
    }
   ],
   "source": [
    "a=Rectangle(2,2)  \n",
    "b=Rectangle(2,1)  \n",
    "c = a.Vertical_Concatenation(b)  \n",
    "print(c.Area())  "
   ]
  },
  {
   "cell_type": "markdown",
   "id": "0d557d5d",
   "metadata": {
    "hidden": true
   },
   "source": [
    "Use of Class Object: Define your own data structure for a list for which you can:\n",
    "\n",
    "- Add elements in the list\n",
    "- Remove elements from beginning, end, and from a particular location.\n",
    "- Print each of the element\n",
    "- Find summation of the elements\n",
    "- Find its length\n",
    "- Find an element in the list.\n",
    "\n",
    "(You can use Python in-built functions)"
   ]
  },
  {
   "cell_type": "code",
   "execution_count": null,
   "id": "3918f9a8",
   "metadata": {
    "hidden": true
   },
   "outputs": [],
   "source": []
  },
  {
   "cell_type": "markdown",
   "id": "216a12eb",
   "metadata": {
    "heading_collapsed": true
   },
   "source": [
    "# Libraries"
   ]
  },
  {
   "cell_type": "markdown",
   "id": "0a8f7c0c",
   "metadata": {
    "hidden": true
   },
   "source": [
    "We import and rename libraries to easily use them. For example:"
   ]
  },
  {
   "cell_type": "code",
   "execution_count": 48,
   "id": "5d0d475f",
   "metadata": {
    "hidden": true
   },
   "outputs": [
    {
     "data": {
      "text/plain": [
       "8.774964387392123"
      ]
     },
     "execution_count": 48,
     "metadata": {},
     "output_type": "execute_result"
    }
   ],
   "source": [
    "import numpy as np  \n",
    "np.sqrt(77)  "
   ]
  },
  {
   "attachments": {},
   "cell_type": "markdown",
   "id": "270f2314",
   "metadata": {
    "hidden": true
   },
   "source": [
    "Among others, the most useful libraries for our purpose are the following:\n",
    "-\tnumpy\n",
    "-\tscipy\n",
    "-\tpandas\n",
    "-\tmatplotlib\n",
    "-\tpyplot and plotly\t\n",
    "-\trandom\n",
    "-\tos\n",
    "-\t(networkx)\n",
    "-\t(sklearn)\n",
    "-\t(gurobipy)"
   ]
  },
  {
   "attachments": {},
   "cell_type": "markdown",
   "id": "e7180005",
   "metadata": {
    "hidden": true
   },
   "source": [
    "Tip:\n",
    "You can install packages in Jupyter notebook directly.\n",
    "\n",
    "Run the following command in the jupyter kernal to install “simpy”"
   ]
  },
  {
   "cell_type": "code",
   "execution_count": 49,
   "id": "210b1781",
   "metadata": {
    "hidden": true
   },
   "outputs": [
    {
     "name": "stdout",
     "output_type": "stream",
     "text": [
      "Requirement already satisfied: simpy in /Users/Megan/opt/anaconda3/lib/python3.9/site-packages (4.0.1)\r\n"
     ]
    }
   ],
   "source": [
    "import sys\n",
    "!{sys.executable} -m pip install simpy"
   ]
  },
  {
   "cell_type": "markdown",
   "id": "09cf9a45",
   "metadata": {
    "hidden": true
   },
   "source": [
    "## numpy"
   ]
  },
  {
   "cell_type": "markdown",
   "id": "d25ac53a",
   "metadata": {
    "hidden": true
   },
   "source": [
    "Stands for Numeric Python. Many functions in that library are based on Matlab. It provides an easy way to work with vectors, arrays and matrices. See some examples below:"
   ]
  },
  {
   "cell_type": "code",
   "execution_count": 52,
   "id": "78c0a85c",
   "metadata": {
    "hidden": true
   },
   "outputs": [
    {
     "name": "stdout",
     "output_type": "stream",
     "text": [
      "[[1 1 1]\n",
      " [2 3 4]\n",
      " [5 5 5]]\n",
      "\n",
      "[[0 1 0]\n",
      " [1 0 1]\n",
      " [0 1 0]]\n",
      "\n",
      "[[ 1  2  1]\n",
      " [ 3  6  3]\n",
      " [ 5 10  5]]\n"
     ]
    }
   ],
   "source": [
    "# Matrix and arrays:\n",
    "\n",
    "import numpy as np # We will use \"np\" to call the library functions  \n",
    "\n",
    "A = np.array([[1, 1, 1], [2, 3, 4], [5, 5, 5]])  \n",
    "B = np.array([[0, 1, 0], [1, 0, 1], [0, 1, 0]])  \n",
    "C = A.dot(B)  # This function returns the dot product between two arrays or the \n",
    "              # multiplication between two matrices \n",
    "    \n",
    "print(A)\n",
    "print()\n",
    "print(B)\n",
    "print()\n",
    "print(C)"
   ]
  },
  {
   "cell_type": "code",
   "execution_count": 53,
   "id": "2867bf1b",
   "metadata": {
    "hidden": true
   },
   "outputs": [
    {
     "data": {
      "text/plain": [
       "True"
      ]
     },
     "execution_count": 53,
     "metadata": {},
     "output_type": "execute_result"
    }
   ],
   "source": [
    "# Some basic functions:\n",
    "\n",
    "myArray = np.array([0, -np.inf, 9.5, np.exp(3), 0.001, np.sqrt(77),  \n",
    "                    np.log(85), np.sin(np.pi*2/3),])  \n",
    "Index_max = np.argmax(myArray)  #Returns the indices of the position of the maximum value\n",
    "np.max(myArray) == myArray[Index_max]  #Returns maximum value in the array"
   ]
  },
  {
   "cell_type": "code",
   "execution_count": 54,
   "id": "998f233e",
   "metadata": {
    "hidden": true
   },
   "outputs": [],
   "source": [
    "# More basic functions (try them to see the outputs):\n",
    "\n",
    "myArray = np.array([-1,1,-1,2,-3,4,5.0,5,-5,0,1,0])  \n",
    "np.mean(myArray)  \n",
    "np.var(myArray)  \n",
    "np.sum(myArray)\n",
    "\n",
    "A = np.resize(myArray,(4,3))  \n",
    "A_t = A.transpose()  \n",
    "B = np.concatenate((A,[[0,0,0]]),axis = 0) # Note here the double brackets[[]]!!  \n",
    "\n",
    "np.ones((10,5))  \n",
    "np.zeros((5,2))  \n",
    "np.eye(4)  \n",
    "np.sum(myArray[myArray>=0])  \n",
    "myArray[5] = np.nan  \n",
    "np.sum(myArray)  \n",
    "np.sum(~np.isnan(myArray))  \n",
    "myArray[np.isnan(myArray)] = 10  "
   ]
  },
  {
   "attachments": {},
   "cell_type": "markdown",
   "id": "6faa7950",
   "metadata": {
    "hidden": true
   },
   "source": [
    "## scipy"
   ]
  },
  {
   "attachments": {},
   "cell_type": "markdown",
   "id": "18fe73fc",
   "metadata": {
    "hidden": true
   },
   "source": [
    "It provides many functions and routines for statistics, numerical integration and optimization. Try these statistic functions to see the outputs:"
   ]
  },
  {
   "cell_type": "code",
   "execution_count": 62,
   "id": "9365595c",
   "metadata": {
    "hidden": true
   },
   "outputs": [
    {
     "name": "stdout",
     "output_type": "stream",
     "text": [
      "[ True  True  True  True  True  True  True  True  True  True  True  True\n",
      "  True  True  True]\n"
     ]
    }
   ],
   "source": [
    "import scipy as sc  \n",
    "from scipy import stats\n",
    "  \n",
    "Matrix_norm = sc.stats.norm.rvs(loc = 3, scale = 1, size = (5, 5))  \n",
    "Matrix_norm_probs = sc.stats.norm.pdf(Matrix_norm, loc = 3, scale = 1)  \n",
    "Vector_pois = sc.stats.poisson.rvs(mu = 10, size = (15))  \n",
    "Vector_pois_CDF = sc.stats.poisson.cdf(Vector_pois, mu = 10)  \n",
    "\n",
    "print(Vector_pois == sc.stats.poisson.ppf(Vector_pois_CDF,  mu = 10))  "
   ]
  },
  {
   "attachments": {},
   "cell_type": "markdown",
   "id": "2690164e",
   "metadata": {
    "hidden": true
   },
   "source": [
    "## os"
   ]
  },
  {
   "attachments": {},
   "cell_type": "markdown",
   "id": "b1743025",
   "metadata": {
    "hidden": true
   },
   "source": [
    "We use this library to navigate and set the working path with our Operating System. For example:"
   ]
  },
  {
   "cell_type": "code",
   "execution_count": 94,
   "id": "29a65a3f",
   "metadata": {
    "hidden": true
   },
   "outputs": [],
   "source": [
    "import os\n",
    "from pathlib import Path\n",
    "\n",
    "cwd = os.getcwd() # We get the current working directory  \n",
    "os.chdir('/Users/Megan/Dropbox/Northwestern/TA/Boot Camp Python 2021') # We set the working directory  "
   ]
  },
  {
   "attachments": {},
   "cell_type": "markdown",
   "id": "6acd6599",
   "metadata": {
    "hidden": true
   },
   "source": [
    "## pandas"
   ]
  },
  {
   "attachments": {},
   "cell_type": "markdown",
   "id": "8c6f8a00",
   "metadata": {
    "hidden": true
   },
   "source": [
    "It is a package for data structure operations. We can use it for easily uploading and working with data. See the following example:"
   ]
  },
  {
   "cell_type": "code",
   "execution_count": 202,
   "id": "b3504d7f",
   "metadata": {
    "hidden": true
   },
   "outputs": [
    {
     "data": {
      "text/plain": [
       "6.9"
      ]
     },
     "execution_count": 202,
     "metadata": {},
     "output_type": "execute_result"
    }
   ],
   "source": [
    "iris = sns.load_dataset('iris')\n",
    "iris.head()\n",
    "max(iris['petal_length'])"
   ]
  },
  {
   "cell_type": "code",
   "execution_count": 214,
   "id": "1aef8518",
   "metadata": {
    "hidden": true
   },
   "outputs": [
    {
     "data": {
      "text/html": [
       "<div>\n",
       "<style scoped>\n",
       "    .dataframe tbody tr th:only-of-type {\n",
       "        vertical-align: middle;\n",
       "    }\n",
       "\n",
       "    .dataframe tbody tr th {\n",
       "        vertical-align: top;\n",
       "    }\n",
       "\n",
       "    .dataframe thead th {\n",
       "        text-align: right;\n",
       "    }\n",
       "</style>\n",
       "<table border=\"1\" class=\"dataframe\">\n",
       "  <thead>\n",
       "    <tr style=\"text-align: right;\">\n",
       "      <th></th>\n",
       "      <th>Flower Power</th>\n",
       "      <th>Awesomeness</th>\n",
       "      <th>Flowers</th>\n",
       "      <th>Petal Length</th>\n",
       "    </tr>\n",
       "  </thead>\n",
       "  <tbody>\n",
       "    <tr>\n",
       "      <th>0</th>\n",
       "      <td>0.202899</td>\n",
       "      <td>Low</td>\n",
       "      <td>setosa</td>\n",
       "      <td>1.4</td>\n",
       "    </tr>\n",
       "    <tr>\n",
       "      <th>1</th>\n",
       "      <td>0.202899</td>\n",
       "      <td>Low</td>\n",
       "      <td>setosa</td>\n",
       "      <td>1.3</td>\n",
       "    </tr>\n",
       "    <tr>\n",
       "      <th>2</th>\n",
       "      <td>0.202899</td>\n",
       "      <td>Low</td>\n",
       "      <td>setosa</td>\n",
       "      <td>1.5</td>\n",
       "    </tr>\n",
       "    <tr>\n",
       "      <th>3</th>\n",
       "      <td>0.202899</td>\n",
       "      <td>Low</td>\n",
       "      <td>setosa</td>\n",
       "      <td>1.7</td>\n",
       "    </tr>\n",
       "    <tr>\n",
       "      <th>4</th>\n",
       "      <td>0.202899</td>\n",
       "      <td>Low</td>\n",
       "      <td>setosa</td>\n",
       "      <td>1.6</td>\n",
       "    </tr>\n",
       "  </tbody>\n",
       "</table>\n",
       "</div>"
      ],
      "text/plain": [
       "   Flower Power Awesomeness Flowers  Petal Length\n",
       "0      0.202899         Low  setosa           1.4\n",
       "1      0.202899         Low  setosa           1.3\n",
       "2      0.202899         Low  setosa           1.5\n",
       "3      0.202899         Low  setosa           1.7\n",
       "4      0.202899         Low  setosa           1.6"
      ]
     },
     "execution_count": 214,
     "metadata": {},
     "output_type": "execute_result"
    }
   ],
   "source": [
    "import seaborn as sns\n",
    "import pandas as pd\n",
    "\n",
    "# First we load the dataset from the seaborn package  \n",
    "iris = sns.load_dataset('iris')\n",
    "\n",
    "# We create a new data frame from that d.f. with just some columns \n",
    "df_iris_species = iris[['species','petal_length']]\n",
    "\n",
    "# We remove the duplicates  \n",
    "df_iris_species = df_iris_species.drop_duplicates() \n",
    "\n",
    "# We reset the index column  \n",
    "df_iris_species = df_iris_species.reset_index(drop=True)  \n",
    "\n",
    "# We rename the columns  \n",
    "df_iris_species.columns = ['Flowers','Petal Length']  \n",
    "\n",
    "# We create a new dataframe with the existing columns  \n",
    "iris['Flower Power'] = df_iris_species['Petal Length']/6.9\n",
    "\n",
    "# We create a new column with the existing columns with conditions  \n",
    "iris['Awesomeness'] = ['High' if x >= 0.75 else 'Low' for x in iris['Flower Power']]  \n",
    "\n",
    "# We merge the two data tables  \n",
    "iris = iris.merge(df_iris_species[['Flowers','Petal Length']], left_on ='species', right_on = 'Flowers')  \n",
    "\n",
    "# Renaming...  \n",
    "iris.rename(columns = {'species':'Flowers'})  \n",
    "\n",
    "# We drop the column we are not interested in  \n",
    "iris = iris.drop(columns=['petal_width','petal_length','sepal_length','sepal_width','species'])  \n",
    "iris.head()"
   ]
  },
  {
   "cell_type": "markdown",
   "id": "726bedae",
   "metadata": {
    "hidden": true
   },
   "source": [
    "## random"
   ]
  },
  {
   "attachments": {},
   "cell_type": "markdown",
   "id": "aaf9b735",
   "metadata": {
    "hidden": true
   },
   "source": [
    "It incorporates functions for random variables. Three-lined example:"
   ]
  },
  {
   "cell_type": "code",
   "execution_count": 216,
   "id": "56f6adca",
   "metadata": {
    "hidden": true
   },
   "outputs": [
    {
     "name": "stdout",
     "output_type": "stream",
     "text": [
      "0.9664535356921388\n"
     ]
    }
   ],
   "source": [
    "import random  \n",
    "g=random.Random(1234) # Seed\n",
    "U=g.random()   # We sample from a uniform [0, 1]\n",
    "\n",
    "print(U)"
   ]
  },
  {
   "attachments": {},
   "cell_type": "markdown",
   "id": "987e2a9b",
   "metadata": {
    "hidden": true
   },
   "source": [
    "We fix a seed to get the same values of the random variables used: Our libraries have a huge list of uniform U[0, 1] realizations U1, U2, U3... From this list, we get the rest of r.v. realizations (you will see this in Stochastic Simulation IEMS435). Fixing the seed is fixing the starting point of this list."
   ]
  },
  {
   "attachments": {},
   "cell_type": "markdown",
   "id": "d064c3a3",
   "metadata": {
    "hidden": true
   },
   "source": [
    "## \tmatplotlib and pyplot"
   ]
  },
  {
   "cell_type": "markdown",
   "id": "7f321b2c",
   "metadata": {
    "hidden": true
   },
   "source": [
    "Explore these libraries to create plots, histograms, graphs etc. This is a simple example that can be used as a basic template:"
   ]
  },
  {
   "cell_type": "code",
   "execution_count": 105,
   "id": "c00183d0",
   "metadata": {
    "hidden": true
   },
   "outputs": [
    {
     "data": {
      "image/png": "[encoded data removed]",
      "text/plain": [
       "<Figure size 432x288 with 1 Axes>"
      ]
     },
     "metadata": {
      "needs_background": "light"
     },
     "output_type": "display_data"
    }
   ],
   "source": [
    "import matplotlib.pyplot as plt  \n",
    "import numpy as np  \n",
    "import scipy.stats as sc  \n",
    "\n",
    "# We create our variables  \n",
    "x = np.arange(-10, 10, 0.1) # Yes! We create sequences also with numpy!  \n",
    "y = 1 + 0.8*x + sc.norm.rvs(loc = 0, scale = 0.8, size = (len(x)))  \n",
    "z = np.sqrt(np.abs(y))  \n",
    "# We define the figure  \n",
    "fig1 = plt.figure(1)  \n",
    "# We plot our variables  \n",
    "plt.plot(x, y, 'r.', label = \"Y sample\")   \n",
    "plt.plot(x, 1+0.8*x, 'r-', label = \"Y regression\")   \n",
    "plt.plot(x, z, 'bx', label = \"Z sample\")   \n",
    "plt.plot(x, np.sqrt(np.abs(1 + 0.8*x)), 'b-', label = \"Z regression\")   \n",
    "# Define the plot limits  \n",
    "plt.xlim((-11, 11)) # Note that it is a tupla  \n",
    "plt.ylim((-10, 18))  \n",
    "# We plot the legend  \n",
    "plt.legend(loc = 0) #loc = 0:best, 1:upperight, 2:upperleft, 3:lowerleft, 4:lowerright, 5:right  \n",
    "# We write the labels of the axis  \n",
    "plt.xlabel('x')  \n",
    "plt.ylabel('value')  \n",
    "plt.savefig('MyFigure.jpeg') #Save the figure in our current working directory\n"
   ]
  },
  {
   "cell_type": "code",
   "execution_count": 107,
   "id": "c124e5ff",
   "metadata": {
    "hidden": true
   },
   "outputs": [
    {
     "data": {
      "text/plain": [
       "<matplotlib.legend.Legend at 0x7f991d529e80>"
      ]
     },
     "execution_count": 107,
     "metadata": {},
     "output_type": "execute_result"
    },
    {
     "data": {
      "image/png": "[encoded data removed]",
      "text/plain": [
       "<Figure size 432x288 with 2 Axes>"
      ]
     },
     "metadata": {
      "needs_background": "light"
     },
     "output_type": "display_data"
    }
   ],
   "source": [
    "# Another Example:\n",
    "\n",
    "import matplotlib.pyplot as plt  \n",
    "import numpy as np  \n",
    "import scipy.stats as sc \n",
    "\n",
    "y = np.zeros((1,100))\n",
    "for i in range(0,100):\n",
    "    y[0,i] = sc.beta.rvs(12,3)\n",
    "fig,ax1 = plt.subplots()\n",
    "ax1.hist(y.tolist(), bins = 10)\n",
    "ax1.set_xlabel(\"Agent's Score\")\n",
    "ax1.set_ylabel(\"Frequency\")\n",
    "a0,b0 = 12,3\n",
    "rv0 = sc.beta(a0,b0)\n",
    "x = np.linspace(0, 1, 1000)\n",
    "ax2 = ax1.twinx()\n",
    "ax2.plot(x, rv0.pdf(x), color='tab:red')\n",
    "plt.legend([\"Beta Dsitribution\",\"Experiment\"])\n",
    "# plt.savefig('t1_plot.png')"
   ]
  },
  {
   "attachments": {},
   "cell_type": "markdown",
   "id": "e0ea9687",
   "metadata": {
    "hidden": true
   },
   "source": [
    "Converting Python Plots to Latex Code to add in the pdfs without taking a screenshot:"
   ]
  },
  {
   "cell_type": "code",
   "execution_count": 109,
   "id": "50595c48",
   "metadata": {
    "hidden": true
   },
   "outputs": [
    {
     "data": {
      "text/plain": [
       "<Figure size 432x288 with 0 Axes>"
      ]
     },
     "metadata": {},
     "output_type": "display_data"
    }
   ],
   "source": [
    "import tikzplotlib\n",
    "tikzplotlib.save(\"t0_hist.tex\")"
   ]
  },
  {
   "attachments": {},
   "cell_type": "markdown",
   "id": "5f57ee97",
   "metadata": {
    "hidden": true
   },
   "source": [
    "Exercise:\n",
    "Plot a Histogram of 100 random variables from Beta Distribution with parameters (a,b)=(2,9). Also, draw a fitting Beta curve over the histogram."
   ]
  },
  {
   "attachments": {},
   "cell_type": "markdown",
   "id": "78b1a058",
   "metadata": {
    "heading_collapsed": true
   },
   "source": [
    "# Helpful commands for Faster Implementation"
   ]
  },
  {
   "cell_type": "code",
   "execution_count": 111,
   "id": "a5a30a61",
   "metadata": {
    "hidden": true
   },
   "outputs": [
    {
     "name": "stdout",
     "output_type": "stream",
     "text": [
      "[1, 4, 9, 16, 25, 36, 49, 64, 81]\n"
     ]
    }
   ],
   "source": [
    "# We can define the lists X and S as follows:\n",
    "\n",
    "X=[1,2,3,4,5,6,7,8,9]\n",
    "S=[]\n",
    "for x in X: \n",
    "    S.append(x**2)\n",
    "print(S)"
   ]
  },
  {
   "cell_type": "code",
   "execution_count": 112,
   "id": "fe75b91a",
   "metadata": {
    "hidden": true
   },
   "outputs": [
    {
     "name": "stdout",
     "output_type": "stream",
     "text": [
      "[1, 2, 3, 4, 5, 6, 7, 8, 9]\n",
      "[1, 4, 9, 16, 25, 36, 49, 64, 81]\n"
     ]
    }
   ],
   "source": [
    "# Now, using list comprehension, we can define both the above \n",
    "# lists in a concise form: \n",
    "\n",
    "Xnew = [x for x in range(1,10)]\n",
    "Snew = [s**2 for s in Xnew]\n",
    "print(Xnew) # ← Xnew is exactly same as X. \n",
    "print(Snew) # ← Snew is exactly same as S. "
   ]
  },
  {
   "cell_type": "code",
   "execution_count": 113,
   "id": "7a9341fa",
   "metadata": {
    "hidden": true
   },
   "outputs": [
    {
     "name": "stdout",
     "output_type": "stream",
     "text": [
      "[0.015625, 0.03125, 0.0625, 0.125, 0.25, 0.5, 1, 2, 4, 8, 16, 32, 64]\n",
      "[4, 16, 36, 64]\n"
     ]
    }
   ],
   "source": [
    "# Let's define T and S using list comprehension: \n",
    "P = [2**x for x in range(-6, 7)]\n",
    "print(P)\n",
    "T = [x for x in Snew if x%2 == 0]\n",
    "print(T)"
   ]
  },
  {
   "cell_type": "code",
   "execution_count": 218,
   "id": "1ff959db",
   "metadata": {
    "hidden": true
   },
   "outputs": [
    {
     "data": {
      "text/plain": [
       "[3, 6, 9, 12, 15, 18, 21, 24, 27]"
      ]
     },
     "execution_count": 218,
     "metadata": {},
     "output_type": "execute_result"
    }
   ],
   "source": [
    "# Printing values in the range (3 to 30) in steps of 3: \n",
    "[y for y in range(3, 30, 3)]"
   ]
  },
  {
   "cell_type": "markdown",
   "id": "cceaa2ac",
   "metadata": {
    "heading_collapsed": true
   },
   "source": [
    "# Other Libraries"
   ]
  },
  {
   "cell_type": "markdown",
   "id": "22d7978d",
   "metadata": {
    "hidden": true
   },
   "source": [
    "**networkx**\n",
    "\n",
    "This library is useful to work, create and analyze networks. It incorporates algorithms to obtain the MST, TSP etc.\n",
    "\n",
    "**Sklearn**\n",
    "\n",
    "Sklearn incorporates some basic Machine Learning functions and algorithms.\n",
    "\n",
    "**Gurobipy**\n",
    "\n",
    "We can use Gurobi optimizer in Python. See the following links for more details, documentation, how-to install and examples:\n",
    "Registration and download of Gurobi (free license with Northwestern e-mail!): \n",
    "\n",
    "http://www.gurobi.com/registration/download-reg\n",
    "\n",
    "Gurobipy library:\n",
    "\n",
    "https://pypi.python.org/pypi/gurobipy/\n",
    "\n",
    "All you need about Gurobi and Gurobipy:\n",
    "\n",
    "http://www.gurobi.com/documentation/7.5/quickstart_windows/py_python_interface"
   ]
  },
  {
   "cell_type": "code",
   "execution_count": null,
   "id": "44a832bc",
   "metadata": {
    "hidden": true
   },
   "outputs": [],
   "source": []
  }
 ],
 "metadata": {
  "kernelspec": {
   "display_name": "Python 3 (ipykernel)",
   "language": "python",
   "name": "python3"
  },
  "language_info": {
   "codemirror_mode": {
    "name": "ipython",
    "version": 3
   },
   "file_extension": ".py",
   "mimetype": "text/x-python",
   "name": "python",
   "nbconvert_exporter": "python",
   "pygments_lexer": "ipython3",
   "version": "3.9.7"
  },
  "toc": {
   "base_numbering": 1,
   "nav_menu": {},
   "number_sections": true,
   "sideBar": true,
   "skip_h1_title": false,
   "title_cell": "Table of Contents",
   "title_sidebar": "Contents",
   "toc_cell": false,
   "toc_position": {},
   "toc_section_display": true,
   "toc_window_display": false
  },
  "varInspector": {
   "cols": {
    "lenName": 16,
    "lenType": 16,
    "lenVar": 40
   },
   "kernels_config": {
    "python": {
     "delete_cmd_postfix": "",
     "delete_cmd_prefix": "del ",
     "library": "var_list.py",
     "varRefreshCmd": "print(var_dic_list())"
    },
    "r": {
     "delete_cmd_postfix": ") ",
     "delete_cmd_prefix": "rm(",
     "library": "var_list.r",
     "varRefreshCmd": "cat(var_dic_list()) "
    }
   },
   "types_to_exclude": [
    "module",
    "function",
    "builtin_function_or_method",
    "instance",
    "_Feature"
   ],
   "window_display": false
  }
 },
 "nbformat": 4,
 "nbformat_minor": 5
}
